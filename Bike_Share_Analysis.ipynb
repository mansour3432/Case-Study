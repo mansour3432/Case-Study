{
 "cells": [
  {
   "cell_type": "markdown",
   "id": "5a77a341-b72a-40a5-a641-f2b5146efca6",
   "metadata": {},
   "source": [
    "# Bike Share System Analysis\n",
    "In 2016, Cyclistic launched a successful bike-share offering. Since then, the program has grown to a fleet of 5,824 bicycles that are\r\n",
    "geotracked and locked into a network of 692 stations across Chicago. The bikes can be unlocked from one station and returned to\r\n",
    "any other station in the system anytim\n",
    "\n",
    "**Note:** Customers who purchase single-ride or full-day passes are referred to as casual riders. Customers who\r\n",
    "purchase annual memberships are Cyclistic membe?e."
   ]
  },
  {
   "cell_type": "markdown",
   "id": "d4c0d2a3-d21c-40d8-a7dd-1564bf767658",
   "metadata": {},
   "source": [
    "In this notebook we will explore the dataset of Cyclistic bike Share to achieve the bussiness goal.\n",
    "\n",
    ">**Bussiness Question:** How do annual members and casual riders use Cyclistic bikes differently?"
   ]
  },
  {
   "cell_type": "code",
   "execution_count": 1,
   "id": "e5049d80-6833-4106-bf06-ec5092348c12",
   "metadata": {},
   "outputs": [
    {
     "name": "stderr",
     "output_type": "stream",
     "text": [
      "Warning message:\n",
      "\"package 'tidyverse' was built under R version 3.6.3\"-- Attaching packages --------------------------------------- tidyverse 1.3.1 --\n",
      "v ggplot2 3.3.3     v purrr   0.3.4\n",
      "v tibble  3.1.1     v dplyr   1.0.6\n",
      "v tidyr   1.1.3     v stringr 1.4.0\n",
      "v readr   1.4.0     v forcats 0.5.1\n",
      "Warning message:\n",
      "\"package 'ggplot2' was built under R version 3.6.3\"Warning message:\n",
      "\"package 'tibble' was built under R version 3.6.3\"Warning message:\n",
      "\"package 'tidyr' was built under R version 3.6.3\"Warning message:\n",
      "\"package 'readr' was built under R version 3.6.3\"Warning message:\n",
      "\"package 'purrr' was built under R version 3.6.3\"Warning message:\n",
      "\"package 'dplyr' was built under R version 3.6.3\"Warning message:\n",
      "\"package 'stringr' was built under R version 3.6.3\"Warning message:\n",
      "\"package 'forcats' was built under R version 3.6.3\"-- Conflicts ------------------------------------------ tidyverse_conflicts() --\n",
      "x dplyr::filter() masks stats::filter()\n",
      "x dplyr::lag()    masks stats::lag()\n"
     ]
    }
   ],
   "source": [
    "#Load libraries \n",
    "library(tidyverse)\n",
    "library(readr)\n",
    "library(ggplot2)"
   ]
  },
  {
   "cell_type": "code",
   "execution_count": 2,
   "id": "705cafe4-07a6-46e5-b393-747f766a2be6",
   "metadata": {},
   "outputs": [
    {
     "name": "stderr",
     "output_type": "stream",
     "text": [
      "Warning message:\n",
      "\"package 'lubridate' was built under R version 3.6.3\"\n",
      "Attaching package: 'lubridate'\n",
      "\n",
      "The following objects are masked from 'package:base':\n",
      "\n",
      "    date, intersect, setdiff, union\n",
      "\n"
     ]
    }
   ],
   "source": [
    "#Load libraries \n",
    "library(dplyr)\n",
    "library(lubridate)"
   ]
  },
  {
   "cell_type": "markdown",
   "id": "3c3d1f77-af5e-4b9f-a365-9f3cb16beebb",
   "metadata": {},
   "source": [
    "## Import the dataset"
   ]
  },
  {
   "cell_type": "markdown",
   "id": "67cef9d2-8436-44b9-be7e-af6ee7b73428",
   "metadata": {},
   "source": [
    "> Using the trip data for three months of 2023 (September, October, November)"
   ]
  },
  {
   "cell_type": "markdown",
   "id": "30447ae9-27d0-4c9b-9ed3-8f648b1ff5cb",
   "metadata": {},
   "source": [
    ">> Read the datasets from CSV files."
   ]
  },
  {
   "cell_type": "code",
   "execution_count": 3,
   "id": "8959acff-d6ad-4fe1-a200-2c3dc38cbbde",
   "metadata": {},
   "outputs": [
    {
     "name": "stderr",
     "output_type": "stream",
     "text": [
      "\n",
      "-- Column specification --------------------------------------------------------\n",
      "cols(\n",
      "  ride_id = col_character(),\n",
      "  rideable_type = col_character(),\n",
      "  started_at = col_datetime(format = \"\"),\n",
      "  ended_at = col_datetime(format = \"\"),\n",
      "  start_station_name = col_character(),\n",
      "  start_station_id = col_character(),\n",
      "  end_station_name = col_character(),\n",
      "  end_station_id = col_character(),\n",
      "  start_lat = col_double(),\n",
      "  start_lng = col_double(),\n",
      "  end_lat = col_double(),\n",
      "  end_lng = col_double(),\n",
      "  member_casual = col_character()\n",
      ")\n",
      "\n",
      "\n",
      "-- Column specification --------------------------------------------------------\n",
      "cols(\n",
      "  ride_id = col_character(),\n",
      "  rideable_type = col_character(),\n",
      "  started_at = col_datetime(format = \"\"),\n",
      "  ended_at = col_datetime(format = \"\"),\n",
      "  start_station_name = col_character(),\n",
      "  start_station_id = col_character(),\n",
      "  end_station_name = col_character(),\n",
      "  end_station_id = col_character(),\n",
      "  start_lat = col_double(),\n",
      "  start_lng = col_double(),\n",
      "  end_lat = col_double(),\n",
      "  end_lng = col_double(),\n",
      "  member_casual = col_character()\n",
      ")\n",
      "\n",
      "\n",
      "-- Column specification --------------------------------------------------------\n",
      "cols(\n",
      "  ride_id = col_character(),\n",
      "  rideable_type = col_character(),\n",
      "  started_at = col_datetime(format = \"\"),\n",
      "  ended_at = col_datetime(format = \"\"),\n",
      "  start_station_name = col_character(),\n",
      "  start_station_id = col_character(),\n",
      "  end_station_name = col_character(),\n",
      "  end_station_id = col_character(),\n",
      "  start_lat = col_double(),\n",
      "  start_lng = col_double(),\n",
      "  end_lat = col_double(),\n",
      "  end_lng = col_double(),\n",
      "  member_casual = col_character()\n",
      ")\n",
      "\n"
     ]
    }
   ],
   "source": [
    "data1 = read_csv(\"2023-09-divvy_trip_data.csv\")\n",
    "data2 = read_csv(\"2023-10-divvy_trip_data.csv\")\n",
    "data3 = read_csv(\"2023-11-divvy_trip_data.csv\")"
   ]
  },
  {
   "cell_type": "markdown",
   "id": "1d594850-7c44-4748-80b2-db4567c31b68",
   "metadata": {},
   "source": [
    ">> Ccombine the datasets together by the 'binds_rows' function from the 'dplyr' library"
   ]
  },
  {
   "cell_type": "code",
   "execution_count": 4,
   "id": "1007ad3b-7ce9-4468-a7ba-ab0e8f2bdd18",
   "metadata": {},
   "outputs": [],
   "source": [
    "data = bind_rows(data1, data2, data3)"
   ]
  },
  {
   "cell_type": "code",
   "execution_count": 5,
   "id": "a07733f7-837c-4ee0-96bf-1f1f1852e92f",
   "metadata": {},
   "outputs": [
    {
     "data": {
      "text/html": [
       "<table>\n",
       "<thead><tr><th scope=col>ride_id</th><th scope=col>rideable_type</th><th scope=col>started_at</th><th scope=col>ended_at</th><th scope=col>start_station_name</th><th scope=col>start_station_id</th><th scope=col>end_station_name</th><th scope=col>end_station_id</th><th scope=col>start_lat</th><th scope=col>start_lng</th><th scope=col>end_lat</th><th scope=col>end_lng</th><th scope=col>member_casual</th></tr></thead>\n",
       "<tbody>\n",
       "\t<tr><td>011C1903BF4E2E28                                                          </td><td>classic_bike                                                              </td><td>2023-09-23 00:27:50                                                       </td><td>2023-09-23 00:33:27                                                       </td><td><span style=white-space:pre-wrap>Halsted St &amp; Wrightwood Ave   </span></td><td>TA1309000061                                                              </td><td>Sheffield Ave &amp; Wellington Ave                                        </td><td>TA1307000052                                                              </td><td>41.92914                                                                  </td><td>-87.64908                                                                 </td><td>41.93625                                                                  </td><td>-87.65266                                                                 </td><td>member                                                                    </td></tr>\n",
       "\t<tr><td>87DB80E048A1BF9F                                                          </td><td>classic_bike                                                              </td><td>2023-09-02 09:26:43                                                       </td><td>2023-09-02 09:38:19                                                       </td><td><span style=white-space:pre-wrap>Clark St &amp; Drummond Pl        </span></td><td>TA1307000142                                                              </td><td><span style=white-space:pre-wrap>Racine Ave &amp; Fullerton Ave    </span></td><td>TA1306000026                                                              </td><td>41.93125                                                                  </td><td>-87.64434                                                                 </td><td>41.92557                                                                  </td><td>-87.65842                                                                 </td><td>member                                                                    </td></tr>\n",
       "\t<tr><td>7C2EB7AF669066E3                                                          </td><td>electric_bike                                                             </td><td>2023-09-25 18:30:11                                                       </td><td>2023-09-25 18:41:39                                                       </td><td>Financial Pl &amp; Ida B Wells Dr                                         </td><td><span style=white-space:pre-wrap>SL-010      </span>                      </td><td><span style=white-space:pre-wrap>Racine Ave &amp; 15th St          </span></td><td><span style=white-space:pre-wrap>13304       </span>                      </td><td>41.87506                                                                  </td><td>-87.63314                                                                 </td><td>41.86127                                                                  </td><td>-87.65663                                                                 </td><td>member                                                                    </td></tr>\n",
       "\t<tr><td>57D197B010269CE3                                                          </td><td>classic_bike                                                              </td><td>2023-09-13 15:30:49                                                       </td><td>2023-09-13 15:39:18                                                       </td><td><span style=white-space:pre-wrap>Clark St &amp; Drummond Pl        </span></td><td>TA1307000142                                                              </td><td><span style=white-space:pre-wrap>Racine Ave &amp; Belmont Ave      </span></td><td>TA1308000019                                                              </td><td>41.93125                                                                  </td><td>-87.64434                                                                 </td><td>41.93974                                                                  </td><td>-87.65887                                                                 </td><td>member                                                                    </td></tr>\n",
       "\t<tr><td>8A2CEA7C8C8074D8                                                          </td><td>classic_bike                                                              </td><td>2023-09-18 15:58:58                                                       </td><td>2023-09-18 16:05:04                                                       </td><td><span style=white-space:pre-wrap>Halsted St &amp; Wrightwood Ave   </span></td><td>TA1309000061                                                              </td><td><span style=white-space:pre-wrap>Racine Ave &amp; Fullerton Ave    </span></td><td>TA1306000026                                                              </td><td>41.92914                                                                  </td><td>-87.64908                                                                 </td><td>41.92557                                                                  </td><td>-87.65842                                                                 </td><td>member                                                                    </td></tr>\n",
       "\t<tr><td>03F7044D1304CD58                                                      </td><td>electric_bike                                                         </td><td>2023-09-15 20:19:25                                                   </td><td>2023-09-15 20:30:27                                                   </td><td>Southport Ave &amp; Wrightwood Ave                                    </td><td>TA1307000113                                                          </td><td><span style=white-space:pre-wrap>NA                            </span></td><td><span style=white-space:pre-wrap>NA          </span>                  </td><td>41.92884                                                              </td><td>-87.66387                                                             </td><td>41.90000                                                              </td><td>-87.64000                                                             </td><td>member                                                                </td></tr>\n",
       "</tbody>\n",
       "</table>\n"
      ],
      "text/latex": [
       "\\begin{tabular}{r|lllllllllllll}\n",
       " ride\\_id & rideable\\_type & started\\_at & ended\\_at & start\\_station\\_name & start\\_station\\_id & end\\_station\\_name & end\\_station\\_id & start\\_lat & start\\_lng & end\\_lat & end\\_lng & member\\_casual\\\\\n",
       "\\hline\n",
       "\t 011C1903BF4E2E28                 & classic\\_bike                   & 2023-09-23 00:27:50              & 2023-09-23 00:33:27              & Halsted St \\& Wrightwood Ave    & TA1309000061                     & Sheffield Ave \\& Wellington Ave & TA1307000052                     & 41.92914                         & -87.64908                        & 41.93625                         & -87.65266                        & member                          \\\\\n",
       "\t 87DB80E048A1BF9F                 & classic\\_bike                   & 2023-09-02 09:26:43              & 2023-09-02 09:38:19              & Clark St \\& Drummond Pl         & TA1307000142                     & Racine Ave \\& Fullerton Ave     & TA1306000026                     & 41.93125                         & -87.64434                        & 41.92557                         & -87.65842                        & member                          \\\\\n",
       "\t 7C2EB7AF669066E3                 & electric\\_bike                  & 2023-09-25 18:30:11              & 2023-09-25 18:41:39              & Financial Pl \\& Ida B Wells Dr  & SL-010                           & Racine Ave \\& 15th St           & 13304                            & 41.87506                         & -87.63314                        & 41.86127                         & -87.65663                        & member                          \\\\\n",
       "\t 57D197B010269CE3                 & classic\\_bike                   & 2023-09-13 15:30:49              & 2023-09-13 15:39:18              & Clark St \\& Drummond Pl         & TA1307000142                     & Racine Ave \\& Belmont Ave       & TA1308000019                     & 41.93125                         & -87.64434                        & 41.93974                         & -87.65887                        & member                          \\\\\n",
       "\t 8A2CEA7C8C8074D8                 & classic\\_bike                   & 2023-09-18 15:58:58              & 2023-09-18 16:05:04              & Halsted St \\& Wrightwood Ave    & TA1309000061                     & Racine Ave \\& Fullerton Ave     & TA1306000026                     & 41.92914                         & -87.64908                        & 41.92557                         & -87.65842                        & member                          \\\\\n",
       "\t 03F7044D1304CD58                 & electric\\_bike                  & 2023-09-15 20:19:25              & 2023-09-15 20:30:27              & Southport Ave \\& Wrightwood Ave & TA1307000113                     & NA                               & NA                               & 41.92884                         & -87.66387                        & 41.90000                         & -87.64000                        & member                          \\\\\n",
       "\\end{tabular}\n"
      ],
      "text/markdown": [
       "\n",
       "| ride_id | rideable_type | started_at | ended_at | start_station_name | start_station_id | end_station_name | end_station_id | start_lat | start_lng | end_lat | end_lng | member_casual |\n",
       "|---|---|---|---|---|---|---|---|---|---|---|---|---|\n",
       "| 011C1903BF4E2E28               | classic_bike                   | 2023-09-23 00:27:50            | 2023-09-23 00:33:27            | Halsted St & Wrightwood Ave    | TA1309000061                   | Sheffield Ave & Wellington Ave | TA1307000052                   | 41.92914                       | -87.64908                      | 41.93625                       | -87.65266                      | member                         |\n",
       "| 87DB80E048A1BF9F               | classic_bike                   | 2023-09-02 09:26:43            | 2023-09-02 09:38:19            | Clark St & Drummond Pl         | TA1307000142                   | Racine Ave & Fullerton Ave     | TA1306000026                   | 41.93125                       | -87.64434                      | 41.92557                       | -87.65842                      | member                         |\n",
       "| 7C2EB7AF669066E3               | electric_bike                  | 2023-09-25 18:30:11            | 2023-09-25 18:41:39            | Financial Pl & Ida B Wells Dr  | SL-010                         | Racine Ave & 15th St           | 13304                          | 41.87506                       | -87.63314                      | 41.86127                       | -87.65663                      | member                         |\n",
       "| 57D197B010269CE3               | classic_bike                   | 2023-09-13 15:30:49            | 2023-09-13 15:39:18            | Clark St & Drummond Pl         | TA1307000142                   | Racine Ave & Belmont Ave       | TA1308000019                   | 41.93125                       | -87.64434                      | 41.93974                       | -87.65887                      | member                         |\n",
       "| 8A2CEA7C8C8074D8               | classic_bike                   | 2023-09-18 15:58:58            | 2023-09-18 16:05:04            | Halsted St & Wrightwood Ave    | TA1309000061                   | Racine Ave & Fullerton Ave     | TA1306000026                   | 41.92914                       | -87.64908                      | 41.92557                       | -87.65842                      | member                         |\n",
       "| 03F7044D1304CD58               | electric_bike                  | 2023-09-15 20:19:25            | 2023-09-15 20:30:27            | Southport Ave & Wrightwood Ave | TA1307000113                   | NA                             | NA                             | 41.92884                       | -87.66387                      | 41.90000                       | -87.64000                      | member                         |\n",
       "\n"
      ],
      "text/plain": [
       "  ride_id          rideable_type started_at          ended_at           \n",
       "1 011C1903BF4E2E28 classic_bike  2023-09-23 00:27:50 2023-09-23 00:33:27\n",
       "2 87DB80E048A1BF9F classic_bike  2023-09-02 09:26:43 2023-09-02 09:38:19\n",
       "3 7C2EB7AF669066E3 electric_bike 2023-09-25 18:30:11 2023-09-25 18:41:39\n",
       "4 57D197B010269CE3 classic_bike  2023-09-13 15:30:49 2023-09-13 15:39:18\n",
       "5 8A2CEA7C8C8074D8 classic_bike  2023-09-18 15:58:58 2023-09-18 16:05:04\n",
       "6 03F7044D1304CD58 electric_bike 2023-09-15 20:19:25 2023-09-15 20:30:27\n",
       "  start_station_name             start_station_id\n",
       "1 Halsted St & Wrightwood Ave    TA1309000061    \n",
       "2 Clark St & Drummond Pl         TA1307000142    \n",
       "3 Financial Pl & Ida B Wells Dr  SL-010          \n",
       "4 Clark St & Drummond Pl         TA1307000142    \n",
       "5 Halsted St & Wrightwood Ave    TA1309000061    \n",
       "6 Southport Ave & Wrightwood Ave TA1307000113    \n",
       "  end_station_name               end_station_id start_lat start_lng end_lat \n",
       "1 Sheffield Ave & Wellington Ave TA1307000052   41.92914  -87.64908 41.93625\n",
       "2 Racine Ave & Fullerton Ave     TA1306000026   41.93125  -87.64434 41.92557\n",
       "3 Racine Ave & 15th St           13304          41.87506  -87.63314 41.86127\n",
       "4 Racine Ave & Belmont Ave       TA1308000019   41.93125  -87.64434 41.93974\n",
       "5 Racine Ave & Fullerton Ave     TA1306000026   41.92914  -87.64908 41.92557\n",
       "6 NA                             NA             41.92884  -87.66387 41.90000\n",
       "  end_lng   member_casual\n",
       "1 -87.65266 member       \n",
       "2 -87.65842 member       \n",
       "3 -87.65663 member       \n",
       "4 -87.65887 member       \n",
       "5 -87.65842 member       \n",
       "6 -87.64000 member       "
      ]
     },
     "metadata": {},
     "output_type": "display_data"
    }
   ],
   "source": [
    "head(data)"
   ]
  },
  {
   "cell_type": "code",
   "execution_count": 6,
   "id": "163fe467-05ee-43b6-9c34-55f06897283c",
   "metadata": {},
   "outputs": [
    {
     "name": "stdout",
     "output_type": "stream",
     "text": [
      "spec_tbl_df[,13] [1,566,002 x 13] (S3: spec_tbl_df/tbl_df/tbl/data.frame)\n",
      " $ ride_id           : chr [1:1566002] \"011C1903BF4E2E28\" \"87DB80E048A1BF9F\" \"7C2EB7AF669066E3\" \"57D197B010269CE3\" ...\n",
      " $ rideable_type     : chr [1:1566002] \"classic_bike\" \"classic_bike\" \"electric_bike\" \"classic_bike\" ...\n",
      " $ started_at        : POSIXct[1:1566002], format: \"2023-09-23 00:27:50\" \"2023-09-02 09:26:43\" ...\n",
      " $ ended_at          : POSIXct[1:1566002], format: \"2023-09-23 00:33:27\" \"2023-09-02 09:38:19\" ...\n",
      " $ start_station_name: chr [1:1566002] \"Halsted St & Wrightwood Ave\" \"Clark St & Drummond Pl\" \"Financial Pl & Ida B Wells Dr\" \"Clark St & Drummond Pl\" ...\n",
      " $ start_station_id  : chr [1:1566002] \"TA1309000061\" \"TA1307000142\" \"SL-010\" \"TA1307000142\" ...\n",
      " $ end_station_name  : chr [1:1566002] \"Sheffield Ave & Wellington Ave\" \"Racine Ave & Fullerton Ave\" \"Racine Ave & 15th St\" \"Racine Ave & Belmont Ave\" ...\n",
      " $ end_station_id    : chr [1:1566002] \"TA1307000052\" \"TA1306000026\" \"13304\" \"TA1308000019\" ...\n",
      " $ start_lat         : num [1:1566002] 41.9 41.9 41.9 41.9 41.9 ...\n",
      " $ start_lng         : num [1:1566002] -87.6 -87.6 -87.6 -87.6 -87.6 ...\n",
      " $ end_lat           : num [1:1566002] 41.9 41.9 41.9 41.9 41.9 ...\n",
      " $ end_lng           : num [1:1566002] -87.7 -87.7 -87.7 -87.7 -87.7 ...\n",
      " $ member_casual     : chr [1:1566002] \"member\" \"member\" \"member\" \"member\" ...\n",
      " - attr(*, \"spec\")=\n",
      "  .. cols(\n",
      "  ..   ride_id = col_character(),\n",
      "  ..   rideable_type = col_character(),\n",
      "  ..   started_at = col_datetime(format = \"\"),\n",
      "  ..   ended_at = col_datetime(format = \"\"),\n",
      "  ..   start_station_name = col_character(),\n",
      "  ..   start_station_id = col_character(),\n",
      "  ..   end_station_name = col_character(),\n",
      "  ..   end_station_id = col_character(),\n",
      "  ..   start_lat = col_double(),\n",
      "  ..   start_lng = col_double(),\n",
      "  ..   end_lat = col_double(),\n",
      "  ..   end_lng = col_double(),\n",
      "  ..   member_casual = col_character()\n",
      "  .. )\n"
     ]
    }
   ],
   "source": [
    "str(data)"
   ]
  },
  {
   "cell_type": "code",
   "execution_count": 7,
   "id": "41af0289-faa6-48d5-b8c5-a9e25c4bede6",
   "metadata": {},
   "outputs": [
    {
     "data": {
      "text/html": [
       "<dl class=dl-horizontal>\n",
       "\t<dt>ride_id</dt>\n",
       "\t\t<dd>0</dd>\n",
       "\t<dt>rideable_type</dt>\n",
       "\t\t<dd>0</dd>\n",
       "\t<dt>started_at</dt>\n",
       "\t\t<dd>0</dd>\n",
       "\t<dt>ended_at</dt>\n",
       "\t\t<dd>0</dd>\n",
       "\t<dt>start_station_name</dt>\n",
       "\t\t<dd>240727</dd>\n",
       "\t<dt>start_station_id</dt>\n",
       "\t\t<dd>240727</dd>\n",
       "\t<dt>end_station_name</dt>\n",
       "\t\t<dd>254443</dd>\n",
       "\t<dt>end_station_id</dt>\n",
       "\t\t<dd>254443</dd>\n",
       "\t<dt>start_lat</dt>\n",
       "\t\t<dd>0</dd>\n",
       "\t<dt>start_lng</dt>\n",
       "\t\t<dd>0</dd>\n",
       "\t<dt>end_lat</dt>\n",
       "\t\t<dd>1780</dd>\n",
       "\t<dt>end_lng</dt>\n",
       "\t\t<dd>1780</dd>\n",
       "\t<dt>member_casual</dt>\n",
       "\t\t<dd>0</dd>\n",
       "</dl>\n"
      ],
      "text/latex": [
       "\\begin{description*}\n",
       "\\item[ride\\textbackslash{}\\_id] 0\n",
       "\\item[rideable\\textbackslash{}\\_type] 0\n",
       "\\item[started\\textbackslash{}\\_at] 0\n",
       "\\item[ended\\textbackslash{}\\_at] 0\n",
       "\\item[start\\textbackslash{}\\_station\\textbackslash{}\\_name] 240727\n",
       "\\item[start\\textbackslash{}\\_station\\textbackslash{}\\_id] 240727\n",
       "\\item[end\\textbackslash{}\\_station\\textbackslash{}\\_name] 254443\n",
       "\\item[end\\textbackslash{}\\_station\\textbackslash{}\\_id] 254443\n",
       "\\item[start\\textbackslash{}\\_lat] 0\n",
       "\\item[start\\textbackslash{}\\_lng] 0\n",
       "\\item[end\\textbackslash{}\\_lat] 1780\n",
       "\\item[end\\textbackslash{}\\_lng] 1780\n",
       "\\item[member\\textbackslash{}\\_casual] 0\n",
       "\\end{description*}\n"
      ],
      "text/markdown": [
       "ride_id\n",
       ":   0rideable_type\n",
       ":   0started_at\n",
       ":   0ended_at\n",
       ":   0start_station_name\n",
       ":   240727start_station_id\n",
       ":   240727end_station_name\n",
       ":   254443end_station_id\n",
       ":   254443start_lat\n",
       ":   0start_lng\n",
       ":   0end_lat\n",
       ":   1780end_lng\n",
       ":   1780member_casual\n",
       ":   0\n",
       "\n"
      ],
      "text/plain": [
       "           ride_id      rideable_type         started_at           ended_at \n",
       "                 0                  0                  0                  0 \n",
       "start_station_name   start_station_id   end_station_name     end_station_id \n",
       "            240727             240727             254443             254443 \n",
       "         start_lat          start_lng            end_lat            end_lng \n",
       "                 0                  0               1780               1780 \n",
       "     member_casual \n",
       "                 0 "
      ]
     },
     "metadata": {},
     "output_type": "display_data"
    }
   ],
   "source": [
    "is_na<- colSums(is.na(data))\n",
    "is_na"
   ]
  },
  {
   "cell_type": "markdown",
   "id": "6d9e2cfc-9087-44e4-8830-13ad4aefdeab",
   "metadata": {},
   "source": [
    "# **Data Cleaning**"
   ]
  },
  {
   "cell_type": "markdown",
   "id": "6c9420c9-ca7b-4269-8151-5d4409bb1a7a",
   "metadata": {},
   "source": [
    ">Add Trip Duration colmun to the dataset"
   ]
  },
  {
   "cell_type": "code",
   "execution_count": 8,
   "id": "1ca5f468-6afc-4d4b-8a2f-bc97cf88dc12",
   "metadata": {},
   "outputs": [],
   "source": [
    "# claculate the trip_duration columns by \n",
    "# subtract the started_at column from the ended_at columns\n",
    "# And divide it by 60 to be with  minute\n",
    "\n",
    "data<- data%>%\n",
    "    mutate(data, trip_duration = as.numeric((ended_at - started_at)/ 60))"
   ]
  },
  {
   "cell_type": "markdown",
   "id": "ff7b133e-a2c0-4550-9856-494c2930ddec",
   "metadata": {},
   "source": [
    ">Add Day of Week Column to the dataset"
   ]
  },
  {
   "cell_type": "code",
   "execution_count": 9,
   "id": "bba98e9d-d0f2-4d42-9eb3-4a2da3aa5e4c",
   "metadata": {},
   "outputs": [],
   "source": [
    "data$day_of_week <- weekdays(data$started_at)"
   ]
  },
  {
   "cell_type": "code",
   "execution_count": 10,
   "id": "cb9ef8f5-148d-4a5c-8150-45a9b89562ae",
   "metadata": {},
   "outputs": [
    {
     "data": {
      "text/html": [
       "<table>\n",
       "<thead><tr><th scope=col>ride_id</th><th scope=col>rideable_type</th><th scope=col>started_at</th><th scope=col>ended_at</th><th scope=col>start_station_name</th><th scope=col>start_station_id</th><th scope=col>end_station_name</th><th scope=col>end_station_id</th><th scope=col>start_lat</th><th scope=col>start_lng</th><th scope=col>end_lat</th><th scope=col>end_lng</th><th scope=col>member_casual</th><th scope=col>trip_duration</th><th scope=col>day_of_week</th></tr></thead>\n",
       "<tbody>\n",
       "\t<tr><td>011C1903BF4E2E28                                                          </td><td>classic_bike                                                              </td><td>2023-09-23 00:27:50                                                       </td><td>2023-09-23 00:33:27                                                       </td><td><span style=white-space:pre-wrap>Halsted St &amp; Wrightwood Ave   </span></td><td>TA1309000061                                                              </td><td>Sheffield Ave &amp; Wellington Ave                                        </td><td>TA1307000052                                                              </td><td>41.92914                                                                  </td><td>-87.64908                                                                 </td><td>41.93625                                                                  </td><td>-87.65266                                                                 </td><td>member                                                                    </td><td> 5.616667                                                                 </td><td>Saturday                                                                  </td></tr>\n",
       "\t<tr><td>87DB80E048A1BF9F                                                          </td><td>classic_bike                                                              </td><td>2023-09-02 09:26:43                                                       </td><td>2023-09-02 09:38:19                                                       </td><td><span style=white-space:pre-wrap>Clark St &amp; Drummond Pl        </span></td><td>TA1307000142                                                              </td><td><span style=white-space:pre-wrap>Racine Ave &amp; Fullerton Ave    </span></td><td>TA1306000026                                                              </td><td>41.93125                                                                  </td><td>-87.64434                                                                 </td><td>41.92557                                                                  </td><td>-87.65842                                                                 </td><td>member                                                                    </td><td>11.600000                                                                 </td><td>Saturday                                                                  </td></tr>\n",
       "\t<tr><td>7C2EB7AF669066E3                                                          </td><td>electric_bike                                                             </td><td>2023-09-25 18:30:11                                                       </td><td>2023-09-25 18:41:39                                                       </td><td>Financial Pl &amp; Ida B Wells Dr                                         </td><td><span style=white-space:pre-wrap>SL-010      </span>                      </td><td><span style=white-space:pre-wrap>Racine Ave &amp; 15th St          </span></td><td><span style=white-space:pre-wrap>13304       </span>                      </td><td>41.87506                                                                  </td><td>-87.63314                                                                 </td><td>41.86127                                                                  </td><td>-87.65663                                                                 </td><td>member                                                                    </td><td>11.466667                                                                 </td><td><span style=white-space:pre-wrap>Monday   </span>                         </td></tr>\n",
       "\t<tr><td>57D197B010269CE3                                                          </td><td>classic_bike                                                              </td><td>2023-09-13 15:30:49                                                       </td><td>2023-09-13 15:39:18                                                       </td><td><span style=white-space:pre-wrap>Clark St &amp; Drummond Pl        </span></td><td>TA1307000142                                                              </td><td><span style=white-space:pre-wrap>Racine Ave &amp; Belmont Ave      </span></td><td>TA1308000019                                                              </td><td>41.93125                                                                  </td><td>-87.64434                                                                 </td><td>41.93974                                                                  </td><td>-87.65887                                                                 </td><td>member                                                                    </td><td> 8.483333                                                                 </td><td>Wednesday                                                                 </td></tr>\n",
       "\t<tr><td>8A2CEA7C8C8074D8                                                          </td><td>classic_bike                                                              </td><td>2023-09-18 15:58:58                                                       </td><td>2023-09-18 16:05:04                                                       </td><td><span style=white-space:pre-wrap>Halsted St &amp; Wrightwood Ave   </span></td><td>TA1309000061                                                              </td><td><span style=white-space:pre-wrap>Racine Ave &amp; Fullerton Ave    </span></td><td>TA1306000026                                                              </td><td>41.92914                                                                  </td><td>-87.64908                                                                 </td><td>41.92557                                                                  </td><td>-87.65842                                                                 </td><td>member                                                                    </td><td> 6.100000                                                                 </td><td><span style=white-space:pre-wrap>Monday   </span>                         </td></tr>\n",
       "\t<tr><td>03F7044D1304CD58                                                      </td><td>electric_bike                                                         </td><td>2023-09-15 20:19:25                                                   </td><td>2023-09-15 20:30:27                                                   </td><td>Southport Ave &amp; Wrightwood Ave                                    </td><td>TA1307000113                                                          </td><td><span style=white-space:pre-wrap>NA                            </span></td><td><span style=white-space:pre-wrap>NA          </span>                  </td><td>41.92884                                                              </td><td>-87.66387                                                             </td><td>41.90000                                                              </td><td>-87.64000                                                             </td><td>member                                                                </td><td>11.033333                                                             </td><td><span style=white-space:pre-wrap>Friday   </span>                     </td></tr>\n",
       "</tbody>\n",
       "</table>\n"
      ],
      "text/latex": [
       "\\begin{tabular}{r|lllllllllllllll}\n",
       " ride\\_id & rideable\\_type & started\\_at & ended\\_at & start\\_station\\_name & start\\_station\\_id & end\\_station\\_name & end\\_station\\_id & start\\_lat & start\\_lng & end\\_lat & end\\_lng & member\\_casual & trip\\_duration & day\\_of\\_week\\\\\n",
       "\\hline\n",
       "\t 011C1903BF4E2E28                 & classic\\_bike                   & 2023-09-23 00:27:50              & 2023-09-23 00:33:27              & Halsted St \\& Wrightwood Ave    & TA1309000061                     & Sheffield Ave \\& Wellington Ave & TA1307000052                     & 41.92914                         & -87.64908                        & 41.93625                         & -87.65266                        & member                           &  5.616667                        & Saturday                        \\\\\n",
       "\t 87DB80E048A1BF9F                 & classic\\_bike                   & 2023-09-02 09:26:43              & 2023-09-02 09:38:19              & Clark St \\& Drummond Pl         & TA1307000142                     & Racine Ave \\& Fullerton Ave     & TA1306000026                     & 41.93125                         & -87.64434                        & 41.92557                         & -87.65842                        & member                           & 11.600000                        & Saturday                        \\\\\n",
       "\t 7C2EB7AF669066E3                 & electric\\_bike                  & 2023-09-25 18:30:11              & 2023-09-25 18:41:39              & Financial Pl \\& Ida B Wells Dr  & SL-010                           & Racine Ave \\& 15th St           & 13304                            & 41.87506                         & -87.63314                        & 41.86127                         & -87.65663                        & member                           & 11.466667                        & Monday                          \\\\\n",
       "\t 57D197B010269CE3                 & classic\\_bike                   & 2023-09-13 15:30:49              & 2023-09-13 15:39:18              & Clark St \\& Drummond Pl         & TA1307000142                     & Racine Ave \\& Belmont Ave       & TA1308000019                     & 41.93125                         & -87.64434                        & 41.93974                         & -87.65887                        & member                           &  8.483333                        & Wednesday                       \\\\\n",
       "\t 8A2CEA7C8C8074D8                 & classic\\_bike                   & 2023-09-18 15:58:58              & 2023-09-18 16:05:04              & Halsted St \\& Wrightwood Ave    & TA1309000061                     & Racine Ave \\& Fullerton Ave     & TA1306000026                     & 41.92914                         & -87.64908                        & 41.92557                         & -87.65842                        & member                           &  6.100000                        & Monday                          \\\\\n",
       "\t 03F7044D1304CD58                 & electric\\_bike                  & 2023-09-15 20:19:25              & 2023-09-15 20:30:27              & Southport Ave \\& Wrightwood Ave & TA1307000113                     & NA                               & NA                               & 41.92884                         & -87.66387                        & 41.90000                         & -87.64000                        & member                           & 11.033333                        & Friday                          \\\\\n",
       "\\end{tabular}\n"
      ],
      "text/markdown": [
       "\n",
       "| ride_id | rideable_type | started_at | ended_at | start_station_name | start_station_id | end_station_name | end_station_id | start_lat | start_lng | end_lat | end_lng | member_casual | trip_duration | day_of_week |\n",
       "|---|---|---|---|---|---|---|---|---|---|---|---|---|---|---|\n",
       "| 011C1903BF4E2E28               | classic_bike                   | 2023-09-23 00:27:50            | 2023-09-23 00:33:27            | Halsted St & Wrightwood Ave    | TA1309000061                   | Sheffield Ave & Wellington Ave | TA1307000052                   | 41.92914                       | -87.64908                      | 41.93625                       | -87.65266                      | member                         |  5.616667                      | Saturday                       |\n",
       "| 87DB80E048A1BF9F               | classic_bike                   | 2023-09-02 09:26:43            | 2023-09-02 09:38:19            | Clark St & Drummond Pl         | TA1307000142                   | Racine Ave & Fullerton Ave     | TA1306000026                   | 41.93125                       | -87.64434                      | 41.92557                       | -87.65842                      | member                         | 11.600000                      | Saturday                       |\n",
       "| 7C2EB7AF669066E3               | electric_bike                  | 2023-09-25 18:30:11            | 2023-09-25 18:41:39            | Financial Pl & Ida B Wells Dr  | SL-010                         | Racine Ave & 15th St           | 13304                          | 41.87506                       | -87.63314                      | 41.86127                       | -87.65663                      | member                         | 11.466667                      | Monday                         |\n",
       "| 57D197B010269CE3               | classic_bike                   | 2023-09-13 15:30:49            | 2023-09-13 15:39:18            | Clark St & Drummond Pl         | TA1307000142                   | Racine Ave & Belmont Ave       | TA1308000019                   | 41.93125                       | -87.64434                      | 41.93974                       | -87.65887                      | member                         |  8.483333                      | Wednesday                      |\n",
       "| 8A2CEA7C8C8074D8               | classic_bike                   | 2023-09-18 15:58:58            | 2023-09-18 16:05:04            | Halsted St & Wrightwood Ave    | TA1309000061                   | Racine Ave & Fullerton Ave     | TA1306000026                   | 41.92914                       | -87.64908                      | 41.92557                       | -87.65842                      | member                         |  6.100000                      | Monday                         |\n",
       "| 03F7044D1304CD58               | electric_bike                  | 2023-09-15 20:19:25            | 2023-09-15 20:30:27            | Southport Ave & Wrightwood Ave | TA1307000113                   | NA                             | NA                             | 41.92884                       | -87.66387                      | 41.90000                       | -87.64000                      | member                         | 11.033333                      | Friday                         |\n",
       "\n"
      ],
      "text/plain": [
       "  ride_id          rideable_type started_at          ended_at           \n",
       "1 011C1903BF4E2E28 classic_bike  2023-09-23 00:27:50 2023-09-23 00:33:27\n",
       "2 87DB80E048A1BF9F classic_bike  2023-09-02 09:26:43 2023-09-02 09:38:19\n",
       "3 7C2EB7AF669066E3 electric_bike 2023-09-25 18:30:11 2023-09-25 18:41:39\n",
       "4 57D197B010269CE3 classic_bike  2023-09-13 15:30:49 2023-09-13 15:39:18\n",
       "5 8A2CEA7C8C8074D8 classic_bike  2023-09-18 15:58:58 2023-09-18 16:05:04\n",
       "6 03F7044D1304CD58 electric_bike 2023-09-15 20:19:25 2023-09-15 20:30:27\n",
       "  start_station_name             start_station_id\n",
       "1 Halsted St & Wrightwood Ave    TA1309000061    \n",
       "2 Clark St & Drummond Pl         TA1307000142    \n",
       "3 Financial Pl & Ida B Wells Dr  SL-010          \n",
       "4 Clark St & Drummond Pl         TA1307000142    \n",
       "5 Halsted St & Wrightwood Ave    TA1309000061    \n",
       "6 Southport Ave & Wrightwood Ave TA1307000113    \n",
       "  end_station_name               end_station_id start_lat start_lng end_lat \n",
       "1 Sheffield Ave & Wellington Ave TA1307000052   41.92914  -87.64908 41.93625\n",
       "2 Racine Ave & Fullerton Ave     TA1306000026   41.93125  -87.64434 41.92557\n",
       "3 Racine Ave & 15th St           13304          41.87506  -87.63314 41.86127\n",
       "4 Racine Ave & Belmont Ave       TA1308000019   41.93125  -87.64434 41.93974\n",
       "5 Racine Ave & Fullerton Ave     TA1306000026   41.92914  -87.64908 41.92557\n",
       "6 NA                             NA             41.92884  -87.66387 41.90000\n",
       "  end_lng   member_casual trip_duration day_of_week\n",
       "1 -87.65266 member         5.616667     Saturday   \n",
       "2 -87.65842 member        11.600000     Saturday   \n",
       "3 -87.65663 member        11.466667     Monday     \n",
       "4 -87.65887 member         8.483333     Wednesday  \n",
       "5 -87.65842 member         6.100000     Monday     \n",
       "6 -87.64000 member        11.033333     Friday     "
      ]
     },
     "metadata": {},
     "output_type": "display_data"
    }
   ],
   "source": [
    "head(data)"
   ]
  },
  {
   "cell_type": "code",
   "execution_count": 11,
   "id": "647eed8d-62d8-4577-8f6d-e80e80fa24b6",
   "metadata": {},
   "outputs": [
    {
     "data": {
      "text/plain": [
       "   ride_id          rideable_type        started_at                 \n",
       " Length:1566002     Length:1566002     Min.   :2023-09-01 00:00:44  \n",
       " Class :character   Class :character   1st Qu.:2023-09-18 15:49:23  \n",
       " Mode  :character   Mode  :character   Median :2023-10-05 20:44:30  \n",
       "                                       Mean   :2023-10-09 15:28:18  \n",
       "                                       3rd Qu.:2023-10-28 23:14:40  \n",
       "                                       Max.   :2023-11-30 23:59:14  \n",
       "                                                                    \n",
       "    ended_at                   start_station_name start_station_id  \n",
       " Min.   :2023-09-01 00:03:06   Length:1566002     Length:1566002    \n",
       " 1st Qu.:2023-09-18 16:04:02   Class :character   Class :character  \n",
       " Median :2023-10-05 20:57:58   Mode  :character   Mode  :character  \n",
       " Mean   :2023-10-09 15:44:25                                        \n",
       " 3rd Qu.:2023-10-28 23:32:29                                        \n",
       " Max.   :2023-12-01 20:42:31                                        \n",
       "                                                                    \n",
       " end_station_name   end_station_id       start_lat       start_lng     \n",
       " Length:1566002     Length:1566002     Min.   :41.64   Min.   :-87.94  \n",
       " Class :character   Class :character   1st Qu.:41.88   1st Qu.:-87.66  \n",
       " Mode  :character   Mode  :character   Median :41.90   Median :-87.64  \n",
       "                                       Mean   :41.90   Mean   :-87.65  \n",
       "                                       3rd Qu.:41.93   3rd Qu.:-87.63  \n",
       "                                       Max.   :42.07   Max.   :-87.52  \n",
       "                                                                       \n",
       "    end_lat         end_lng       member_casual      trip_duration       \n",
       " Min.   :41.62   Min.   :-87.99   Length:1566002     Min.   :-16656.517  \n",
       " 1st Qu.:41.88   1st Qu.:-87.66   Class :character   1st Qu.:     5.333  \n",
       " Median :41.90   Median :-87.64   Mode  :character   Median :     9.200  \n",
       " Mean   :41.90   Mean   :-87.65                      Mean   :    16.129  \n",
       " 3rd Qu.:41.93   3rd Qu.:-87.63                      3rd Qu.:    16.083  \n",
       " Max.   :42.12   Max.   :-87.49                      Max.   :  1507.767  \n",
       " NA's   :1780    NA's   :1780                                            \n",
       " day_of_week       \n",
       " Length:1566002    \n",
       " Class :character  \n",
       " Mode  :character  \n",
       "                   \n",
       "                   \n",
       "                   \n",
       "                   "
      ]
     },
     "metadata": {},
     "output_type": "display_data"
    }
   ],
   "source": [
    "summary(data)"
   ]
  },
  {
   "cell_type": "markdown",
   "id": "eee35c61-ca0a-4c75-92ce-cc95f6ef7757",
   "metadata": {},
   "source": [
    "> Show statistics INFO about the trip duration column"
   ]
  },
  {
   "cell_type": "code",
   "execution_count": 12,
   "id": "fdb93e68-344e-4132-a4e3-044cfd9d6305",
   "metadata": {},
   "outputs": [
    {
     "data": {
      "text/html": [
       "-16656.5166666667"
      ],
      "text/latex": [
       "-16656.5166666667"
      ],
      "text/markdown": [
       "-16656.5166666667"
      ],
      "text/plain": [
       "[1] -16656.52"
      ]
     },
     "metadata": {},
     "output_type": "display_data"
    },
    {
     "data": {
      "text/html": [
       "16.1291269742951"
      ],
      "text/latex": [
       "16.1291269742951"
      ],
      "text/markdown": [
       "16.1291269742951"
      ],
      "text/plain": [
       "[1] 16.12913"
      ]
     },
     "metadata": {},
     "output_type": "display_data"
    },
    {
     "data": {
      "text/html": [
       "1507.76666666667"
      ],
      "text/latex": [
       "1507.76666666667"
      ],
      "text/markdown": [
       "1507.76666666667"
      ],
      "text/plain": [
       "[1] 1507.767"
      ]
     },
     "metadata": {},
     "output_type": "display_data"
    }
   ],
   "source": [
    "min(data$trip_duration)\n",
    "mean(data$trip_duration)\n",
    "max(data$trip_duration)"
   ]
  },
  {
   "cell_type": "markdown",
   "id": "026533b9-8601-4c6f-bafd-2902d0200d5d",
   "metadata": {},
   "source": [
    ">Fixing the minimum time in the trip duration column by ensure that the started time is less than the ended time "
   ]
  },
  {
   "cell_type": "code",
   "execution_count": 13,
   "id": "f8ea185c-58ef-422b-a1ba-d62e642732a9",
   "metadata": {},
   "outputs": [],
   "source": [
    "data <- data%>%\n",
    "    filter(started_at < ended_at)"
   ]
  },
  {
   "cell_type": "code",
   "execution_count": 14,
   "id": "56ba9d45-2658-48a9-b4fe-58e6a0e425ca",
   "metadata": {},
   "outputs": [
    {
     "data": {
      "text/html": [
       "0.0166666666666667"
      ],
      "text/latex": [
       "0.0166666666666667"
      ],
      "text/markdown": [
       "0.0166666666666667"
      ],
      "text/plain": [
       "[1] 0.01666667"
      ]
     },
     "metadata": {},
     "output_type": "display_data"
    }
   ],
   "source": [
    "min(data$trip_duration)"
   ]
  },
  {
   "cell_type": "markdown",
   "id": "7986d3de-35a7-4aea-a4bf-d386619b9902",
   "metadata": {},
   "source": [
    ">>The trip duration equal 1 sec!, Is this impossible?"
   ]
  },
  {
   "cell_type": "markdown",
   "id": "27ac0737-210a-4148-a28d-f4d6a65d69ba",
   "metadata": {},
   "source": [
    ">>I will filter the dataset again and just include trip duration that equal at least 10 second."
   ]
  },
  {
   "cell_type": "code",
   "execution_count": 15,
   "id": "fb7fb030-a747-4bf9-8501-089c7b1e0b6f",
   "metadata": {},
   "outputs": [],
   "source": [
    "data <- data%>%\n",
    "    filter(trip_duration >= 0.16)"
   ]
  },
  {
   "cell_type": "markdown",
   "id": "5319a043-7fa9-4316-8f70-10d7bbe4a6ca",
   "metadata": {},
   "source": [
    "# **Data Visualization using ggplot2**"
   ]
  },
  {
   "cell_type": "markdown",
   "id": "685a08e7-e10b-4947-85d7-64701567e342",
   "metadata": {},
   "source": [
    ">First calculate basic descriptive statistics of trip duration for both annual members and casual riders"
   ]
  },
  {
   "cell_type": "markdown",
   "id": "6de25a8e-7015-434f-8a21-ab0780f0853e",
   "metadata": {},
   "source": [
    "."
   ]
  },
  {
   "cell_type": "code",
   "execution_count": 16,
   "id": "3153fd76-9212-4be2-9449-476f76bf6b70",
   "metadata": {},
   "outputs": [
    {
     "data": {
      "text/html": [
       "<table>\n",
       "<thead><tr><th scope=col>AVG</th><th scope=col>Maximum</th><th scope=col>Minimum</th></tr></thead>\n",
       "<tbody>\n",
       "\t<tr><td>12.45229 </td><td>1499.95  </td><td>0.1666667</td></tr>\n",
       "</tbody>\n",
       "</table>\n"
      ],
      "text/latex": [
       "\\begin{tabular}{r|lll}\n",
       " AVG & Maximum & Minimum\\\\\n",
       "\\hline\n",
       "\t 12.45229  & 1499.95   & 0.1666667\\\\\n",
       "\\end{tabular}\n"
      ],
      "text/markdown": [
       "\n",
       "| AVG | Maximum | Minimum |\n",
       "|---|---|---|\n",
       "| 12.45229  | 1499.95   | 0.1666667 |\n",
       "\n"
      ],
      "text/plain": [
       "  AVG      Maximum Minimum  \n",
       "1 12.45229 1499.95 0.1666667"
      ]
     },
     "metadata": {},
     "output_type": "display_data"
    }
   ],
   "source": [
    "# Member User\n",
    "data%>%\n",
    "    filter(member_casual == \"member\")%>%\n",
    "    summarise(AVG = mean(trip_duration), Maximum = max(trip_duration), Minimum = min(trip_duration))"
   ]
  },
  {
   "cell_type": "markdown",
   "id": "0ffa19c1-0a92-44c8-b818-fa74ca27ebc2",
   "metadata": {},
   "source": [
    "."
   ]
  },
  {
   "cell_type": "markdown",
   "id": "c0b56758-56c3-4878-ae10-5b524ecfd044",
   "metadata": {},
   "source": [
    "."
   ]
  },
  {
   "cell_type": "code",
   "execution_count": 17,
   "id": "802bb2b8-b970-4075-8faf-f9e19e5dd8da",
   "metadata": {},
   "outputs": [
    {
     "data": {
      "text/html": [
       "<table>\n",
       "<thead><tr><th scope=col>AVG</th><th scope=col>Maximum</th><th scope=col>Minimum</th></tr></thead>\n",
       "<tbody>\n",
       "\t<tr><td>23.5518  </td><td>1507.767 </td><td>0.1666667</td></tr>\n",
       "</tbody>\n",
       "</table>\n"
      ],
      "text/latex": [
       "\\begin{tabular}{r|lll}\n",
       " AVG & Maximum & Minimum\\\\\n",
       "\\hline\n",
       "\t 23.5518   & 1507.767  & 0.1666667\\\\\n",
       "\\end{tabular}\n"
      ],
      "text/markdown": [
       "\n",
       "| AVG | Maximum | Minimum |\n",
       "|---|---|---|\n",
       "| 23.5518   | 1507.767  | 0.1666667 |\n",
       "\n"
      ],
      "text/plain": [
       "  AVG     Maximum  Minimum  \n",
       "1 23.5518 1507.767 0.1666667"
      ]
     },
     "metadata": {},
     "output_type": "display_data"
    }
   ],
   "source": [
    "# Casual User\n",
    "data%>%\n",
    "    filter(member_casual == \"casual\")%>%\n",
    "    summarise(AVG = mean(trip_duration), Maximum = max(trip_duration), Minimum = min(trip_duration))"
   ]
  },
  {
   "cell_type": "markdown",
   "id": "296951d3-6ec8-4128-bcbf-7183c31ef238",
   "metadata": {},
   "source": [
    "."
   ]
  },
  {
   "cell_type": "markdown",
   "id": "24faa18a-dfdc-4140-b684-158ea3eac03e",
   "metadata": {},
   "source": [
    "."
   ]
  },
  {
   "cell_type": "markdown",
   "id": "287eee22-1e79-4613-8c33-169270871136",
   "metadata": {},
   "source": [
    ">Show Numbers of User Type"
   ]
  },
  {
   "cell_type": "code",
   "execution_count": 18,
   "id": "e12280b4-c620-4814-9d60-c98bbecb490a",
   "metadata": {},
   "outputs": [
    {
     "data": {
      "image/png": "[encoded data removed]",
      "text/plain": [
       "plot without title"
      ]
     },
     "metadata": {},
     "output_type": "display_data"
    }
   ],
   "source": [
    "ggplot(data, aes(x= member_casual, fill = member_casual))+\n",
    "    geom_bar()+\n",
    "    labs(title = \"Numbers of User Type\", x= \"User Type\", y = \"Number of Users\");"
   ]
  },
  {
   "cell_type": "markdown",
   "id": "3ca7037d-5de1-4fbc-af49-b81cc30ef5ac",
   "metadata": {},
   "source": [
    "."
   ]
  },
  {
   "cell_type": "markdown",
   "id": "3036cd7e-eeb0-4e8a-a420-aee0e82d50fd",
   "metadata": {},
   "source": [
    "."
   ]
  },
  {
   "cell_type": "markdown",
   "id": "8ecc3b64-6e71-4bda-817a-b571c632e2dc",
   "metadata": {},
   "source": [
    ">Explore how the number of rides varies by day of the week"
   ]
  },
  {
   "cell_type": "code",
   "execution_count": 19,
   "id": "e01d24f4-203f-4cdc-abcb-a280da6517db",
   "metadata": {},
   "outputs": [
    {
     "data": {
      "image/png": "[encoded data removed]",
      "text/plain": [
       "plot without title"
      ]
     },
     "metadata": {},
     "output_type": "display_data"
    }
   ],
   "source": [
    "ggplot(data, aes(x=day_of_week , fill = day_of_week))+\n",
    "    geom_bar()+\n",
    "    facet_wrap(~member_casual)+\n",
    "    labs(title = \"The Usage Patterns Over Time\", x= \"Day of Week\", y = \"Numbers Of Rides\")+\n",
    "    theme(axis.text.x = element_text(angle = 45, hjust = 1))"
   ]
  },
  {
   "cell_type": "markdown",
   "id": "72540353-f056-4026-adde-fe434995f4bd",
   "metadata": {},
   "source": [
    "."
   ]
  },
  {
   "cell_type": "markdown",
   "id": "cc797c55-5e3a-4b2c-b227-4cb6e5c12778",
   "metadata": {},
   "source": [
    "."
   ]
  },
  {
   "cell_type": "markdown",
   "id": "3d32112c-97e7-4418-b39c-c5cfa2543415",
   "metadata": {},
   "source": [
    ">Plot the average trip duration over time for both user types."
   ]
  },
  {
   "cell_type": "code",
   "execution_count": 20,
   "id": "1df89dbd-9f3b-4f2d-9a07-49bf6bc2887d",
   "metadata": {},
   "outputs": [
    {
     "data": {
      "text/plain": [
       "NULL"
      ]
     },
     "metadata": {},
     "output_type": "display_data"
    },
    {
     "data": {
      "image/png": "[encoded data removed]",
      "text/plain": [
       "plot without title"
      ]
     },
     "metadata": {},
     "output_type": "display_data"
    }
   ],
   "source": [
    "library(dplyr)\n",
    "df_grouped <- data %>%\n",
    "  group_by(member_casual, date = as.Date(started_at)) %>%\n",
    "  summarise(avg_trip_duration = mean(trip_duration, na.rm = TRUE), .groups = \"drop\")\n",
    "\n",
    "\n",
    "ggplot(df_grouped, aes(x = date, y = avg_trip_duration, color = member_casual)) +\n",
    "    geom_point() +\n",
    "    facet_wrap(~member_casual)\n",
    "    labs(title = \"Average Trip Duration Over Time\",\n",
    "         x = \"Date\",\n",
    "         y = \"Average Trip Duration (minutes)\",\n",
    "         color = \"User Type\") +\n",
    "    theme_minimal()"
   ]
  },
  {
   "cell_type": "markdown",
   "id": "c4be3242-5dff-47f7-8938-4d043137216e",
   "metadata": {},
   "source": [
    "."
   ]
  },
  {
   "cell_type": "markdown",
   "id": "8ee4991c-d6ce-4770-ab52-9ac9fd32a488",
   "metadata": {},
   "source": [
    "."
   ]
  },
  {
   "cell_type": "markdown",
   "id": "c56f3cb7-a574-4853-a28b-bf16ea565e34",
   "metadata": {},
   "source": [
    ">Explore the rideable type preferences for annual members and casual riders"
   ]
  },
  {
   "cell_type": "code",
   "execution_count": 21,
   "id": "688777a4-fef0-4d57-a43c-511852faf081",
   "metadata": {},
   "outputs": [
    {
     "data": {
      "image/png": "[encoded data removed]",
      "text/plain": [
       "plot without title"
      ]
     },
     "metadata": {},
     "output_type": "display_data"
    }
   ],
   "source": [
    "ggplot(data, aes(x = rideable_type, fill = rideable_type))+\n",
    "    geom_bar()+\n",
    "    facet_wrap(~member_casual)+\n",
    "    labs(title = \"The Rideable Type Preferences For Both users\", y = \"Number of Rideable Type\", x = \"Rideable Type\")\n"
   ]
  },
  {
   "cell_type": "markdown",
   "id": "ed98d26c-40dd-446e-a115-b3e453359526",
   "metadata": {},
   "source": [
    "."
   ]
  },
  {
   "cell_type": "markdown",
   "id": "c5287f7a-0ca5-4882-87c3-2c0068380750",
   "metadata": {},
   "source": [
    "."
   ]
  },
  {
   "cell_type": "markdown",
   "id": "55b3bf5b-9ea5-40df-be5d-a3e036db1a3e",
   "metadata": {},
   "source": [
    "# **Conclusion**"
   ]
  },
  {
   "cell_type": "markdown",
   "id": "c830142c-ca5d-4f34-be36-d968e2820d20",
   "metadata": {},
   "source": [
    "> **Over the last three months, the number of annual members consistently exceeded that of casual riders, indicating a higher level of engagement among the membership base.**"
   ]
  },
  {
   "cell_type": "markdown",
   "id": "9f4afb3e-85b0-41c7-b1da-4cbaaf29734b",
   "metadata": {},
   "source": [
    "> **The most popular days for casual riders are the weekends, particularly Saturday and Sunday, whereas annual members tend to utilize the service more frequently on weekdays, with Tuesday, Thursday, and Wednesday being the most active days.**\n"
   ]
  },
  {
   "cell_type": "markdown",
   "id": "b32b6a17-2a95-47fd-8bc9-32eefe022671",
   "metadata": {},
   "source": [
    "> **Average trip durations differ significantly between casual riders and annual members, with casual riders generally having longer trip durations compared to members.**"
   ]
  },
  {
   "cell_type": "markdown",
   "id": "258c1eec-ab8e-4bd9-abc1-14d34b68371e",
   "metadata": {},
   "source": [
    "> **Preferences for bike types vary between the two user groups. Casual riders show a preference for electric bikes, while annual members favor classic bikes.**"
   ]
  }
 ],
 "metadata": {
  "kernelspec": {
   "display_name": "R",
   "language": "R",
   "name": "ir"
  },
  "language_info": {
   "codemirror_mode": "r",
   "file_extension": ".r",
   "mimetype": "text/x-r-source",
   "name": "R",
   "pygments_lexer": "r",
   "version": "3.6.1"
  }
 },
 "nbformat": 4,
 "nbformat_minor": 5
}
